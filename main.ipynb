{
 "cells": [
  {
   "cell_type": "markdown",
   "metadata": {},
   "source": [
    "Since your task involves **Applied Machine Learning**, let’s break it down into clear steps:\n",
    "\n",
    "### **1. Understanding the Dataset**\n",
    "- Load the dataset\n",
    "- Check for missing values (even though we know there are none)\n",
    "- Explore basic statistics (mean, standard deviation, etc.)\n",
    "- Visualize distributions"
   ]
  },
  {
   "cell_type": "code",
   "execution_count": 1,
   "metadata": {},
   "outputs": [
    {
     "name": "stdout",
     "output_type": "stream",
     "text": [
      "<class 'pandas.core.frame.DataFrame'>\n",
      "RangeIndex: 116 entries, 0 to 115\n",
      "Data columns (total 10 columns):\n",
      " #   Column          Non-Null Count  Dtype  \n",
      "---  ------          --------------  -----  \n",
      " 0   Age             116 non-null    int64  \n",
      " 1   BMI             116 non-null    float64\n",
      " 2   Glucose         116 non-null    int64  \n",
      " 3   Insulin         116 non-null    float64\n",
      " 4   HOMA            116 non-null    float64\n",
      " 5   Leptin          116 non-null    float64\n",
      " 6   Adiponectin     116 non-null    float64\n",
      " 7   Resistin        116 non-null    float64\n",
      " 8   MCP.1           116 non-null    float64\n",
      " 9   Classification  116 non-null    int64  \n",
      "dtypes: float64(7), int64(3)\n",
      "memory usage: 9.2 KB\n",
      "None\n",
      "              Age         BMI     Glucose     Insulin        HOMA      Leptin  \\\n",
      "count  116.000000  116.000000  116.000000  116.000000  116.000000  116.000000   \n",
      "mean    57.301724   27.582111   97.793103   10.012086    2.694988   26.615080   \n",
      "std     16.112766    5.020136   22.525162   10.067768    3.642043   19.183294   \n",
      "min     24.000000   18.370000   60.000000    2.432000    0.467409    4.311000   \n",
      "25%     45.000000   22.973205   85.750000    4.359250    0.917966   12.313675   \n",
      "50%     56.000000   27.662416   92.000000    5.924500    1.380939   20.271000   \n",
      "75%     71.000000   31.241442  102.000000   11.189250    2.857787   37.378300   \n",
      "max     89.000000   38.578759  201.000000   58.460000   25.050342   90.280000   \n",
      "\n",
      "       Adiponectin    Resistin        MCP.1  Classification  \n",
      "count   116.000000  116.000000   116.000000      116.000000  \n",
      "mean     10.180874   14.725966   534.647000        1.551724  \n",
      "std       6.843341   12.390646   345.912663        0.499475  \n",
      "min       1.656020    3.210000    45.843000        1.000000  \n",
      "25%       5.474283    6.881763   269.978250        1.000000  \n",
      "50%       8.352692   10.827740   471.322500        2.000000  \n",
      "75%      11.815970   17.755207   700.085000        2.000000  \n",
      "max      38.040000   82.100000  1698.440000        2.000000  \n"
     ]
    },
    {
     "data": {
      "image/png": "[encoded data removed]",
      "text/plain": [
       "<Figure size 640x480 with 1 Axes>"
      ]
     },
     "metadata": {},
     "output_type": "display_data"
    },
    {
     "name": "stdout",
     "output_type": "stream",
     "text": [
      "Missing values per column:\n",
      " Age               0\n",
      "BMI               0\n",
      "Glucose           0\n",
      "Insulin           0\n",
      "HOMA              0\n",
      "Leptin            0\n",
      "Adiponectin       0\n",
      "Resistin          0\n",
      "MCP.1             0\n",
      "Classification    0\n",
      "dtype: int64\n"
     ]
    }
   ],
   "source": [
    "import pandas as pd\n",
    "import numpy as np\n",
    "import matplotlib.pyplot as plt\n",
    "import seaborn as sns\n",
    "\n",
    "# Load the dataset\n",
    "file_path = \"dataR2.csv\"  # Adjust this if running locally\n",
    "df = pd.read_csv(file_path)\n",
    "\n",
    "# Display basic info\n",
    "print(df.info())\n",
    "print(df.describe())\n",
    "\n",
    "# Check class distribution\n",
    "sns.countplot(x=\"Classification\", data=df)\n",
    "plt.title(\"Target Class Distribution\")\n",
    "plt.show()\n",
    "\n",
    "# Check for missing values\n",
    "print(\"Missing values per column:\\n\", df.isnull().sum())\n"
   ]
  },
  {
   "cell_type": "markdown",
   "metadata": {},
   "source": [
    "### **2. Preprocessing**\n",
    "- Encode the target variable (convert 1/2 into 0/1 for binary classification)\n",
    "- Scale the features (important for algorithms like logistic regression, SVM, and neural networks)\n",
    "- Split data into training and test sets"
   ]
  },
  {
   "cell_type": "code",
   "execution_count": null,
   "metadata": {},
   "outputs": [],
   "source": [
    "from sklearn.model_selection import train_test_split\n",
    "from sklearn.preprocessing import StandardScaler, LabelEncoder\n",
    "\n",
    "# Encode the target variable (1 -> 0, 2 -> 1)\n",
    "df[\"Classification\"] = df[\"Classification\"].map({1: 0, 2: 1})\n",
    "\n",
    "# Separate features and target\n",
    "X = df.drop(columns=[\"Classification\"])\n",
    "y = df[\"Classification\"]\n",
    "\n",
    "# Standardize features\n",
    "scaler = StandardScaler()\n",
    "X_scaled = scaler.fit_transform(X)\n",
    "\n",
    "# Split dataset into training (80%) and test (20%) sets\n",
    "X_train, X_test, y_train, y_test = train_test_split(X_scaled, y, test_size=0.2, random_state=42, stratify=y)\n"
   ]
  },
  {
   "cell_type": "markdown",
   "metadata": {},
   "source": [
    "### **3. Applying Machine Learning**\n",
    "- Train baseline models (e.g., Logistic Regression, Decision Tree, Random Forest, SVM, etc.)\n",
    "- Evaluate performance using accuracy, precision, recall, F1-score\n",
    "- Tune hyperparameters with GridSearchCV or RandomizedSearchCV"
   ]
  },
  {
   "cell_type": "markdown",
   "metadata": {},
   "source": [
    "### **4. Feature Selection & Engineering**\n",
    "- Check feature importance using techniques like mutual information or correlation\n",
    "- Try PCA (Principal Component Analysis) if dimensionality reduction is needed"
   ]
  },
  {
   "cell_type": "markdown",
   "metadata": {},
   "source": [
    "### **5. Model Evaluation & Interpretation**\n",
    "- Use confusion matrix, ROC curve, and classification reports\n",
    "- Explain predictions using SHAP or LIME"
   ]
  }
 ],
 "metadata": {
  "kernelspec": {
   "display_name": "base",
   "language": "python",
   "name": "python3"
  },
  "language_info": {
   "codemirror_mode": {
    "name": "ipython",
    "version": 3
   },
   "file_extension": ".py",
   "mimetype": "text/x-python",
   "name": "python",
   "nbconvert_exporter": "python",
   "pygments_lexer": "ipython3",
   "version": "3.12.7"
  }
 },
 "nbformat": 4,
 "nbformat_minor": 2
}
